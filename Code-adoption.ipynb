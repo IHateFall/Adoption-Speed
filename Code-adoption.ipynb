{
 "cells": [
  {
   "cell_type": "markdown",
   "metadata": {},
   "source": [
    "# ADOPTION SPEED AND FEATURE IMPORTANCE"
   ]
  },
  {
   "cell_type": "markdown",
   "metadata": {},
   "source": [
    "IMPORTING PACKAGES"
   ]
  },
  {
   "cell_type": "code",
   "execution_count": 16,
   "metadata": {},
   "outputs": [],
   "source": [
    "import pandas as pd\n",
    "import numpy as np\n",
    "import os\n",
    "from sklearn.model_selection import cross_validate, train_test_split\n",
    "from sklearn.ensemble import RandomForestClassifier,GradientBoostingClassifier\n",
    "from sklearn.svm import SVC\n",
    "from sklearn.feature_selection import RFE, VarianceThreshold, SelectFromModel\n",
    "from sklearn.feature_selection import SelectKBest, mutual_info_regression, mutual_info_classif, chi2\n",
    "from sklearn.metrics import f1_score,classification_report, confusion_matrix \n",
    "from matplotlib.legend_handler import HandlerLine2D\n",
    "import matplotlib.pyplot as plt\n",
    "import time\n",
    "from operator import itemgetter"
   ]
  },
  {
   "cell_type": "markdown",
   "metadata": {},
   "source": [
    "Hyperparameters"
   ]
  },
  {
   "cell_type": "code",
   "execution_count": 17,
   "metadata": {},
   "outputs": [],
   "source": [
    "feat_select=1                                       #Control Switch for Feature Selection\n",
    "fs_type=2                                          #Feature Selection type (1=Stepwise Backwards Removal, 2=Wrapper Select, 3=Univariate Selection)\n",
    "lv_filter=0                                         #Control switch for low variance filter on features\n",
    "rand_st=1                                           #Set Random State variable for randomizing splits on runs        \n",
    "all_features=0\n",
    "k_cnt=10\n",
    "random_forest=1\n",
    "gradient_boosting=1\n",
    "svm=1\n",
    "all_features=1"
   ]
  },
  {
   "cell_type": "markdown",
   "metadata": {},
   "source": [
    "Importing dataset and train/test "
   ]
  },
  {
   "cell_type": "code",
   "execution_count": 18,
   "metadata": {},
   "outputs": [],
   "source": [
    "####CONSTRUCTING TRAIN AND TEST####\n",
    "infile=pd.read_csv('dataset6.csv')\n",
    "\n",
    "data=pd.DataFrame(infile,columns=['Type', 'Gender', 'MaturitySize', 'FurLength', 'Vaccinated', 'Dewormed',\n",
    "       'Sterilized', 'Health', 'Fee', 'VideoAmt',\n",
    "       'PhotoAmt', 'Count_of_listings',\n",
    "       'Has_name', 'Mixed', 'Colors', 'Log_Age',\n",
    "       'state_gdp', 'state_population', 'state_area', 'state_unemployment',\n",
    "       'state_birth_rate', 'SentMagnitude', 'SentScore','dominant_score'])\n",
    "target=infile['AdoptionSpeed']\n",
    "data_train, data_test, target_train, target_test = train_test_split(data, target, test_size=0.3,random_state=rand_st)"
   ]
  },
  {
   "cell_type": "markdown",
   "metadata": {},
   "source": [
    "Train on all features"
   ]
  },
  {
   "cell_type": "code",
   "execution_count": 19,
   "metadata": {},
   "outputs": [
    {
     "name": "stdout",
     "output_type": "stream",
     "text": [
      "Random Forest Acc: 0.429\n",
      "True Distribution:\n",
      "0    0.039010\n",
      "1    0.287448\n",
      "2    0.372775\n",
      "3    0.300766\n",
      "Name: AdoptionSpeed, dtype: float64\n",
      "\n",
      "Train Predicted Distribution:\n",
      "0    0.039569\n",
      "1    0.288601\n",
      "2    0.376326\n",
      "3    0.295504\n",
      "dtype: float64\n",
      "\n",
      "Test Predicted Distribution:\n",
      "0    0.003928\n",
      "1    0.266693\n",
      "2    0.462687\n",
      "3    0.266693\n",
      "dtype: float64\n",
      "[[  5  29  37  25]\n",
      " [  3 281 328 113]\n",
      " [  0 220 487 221]\n",
      " [  2 149 326 320]]\n",
      "              precision    recall  f1-score   support\n",
      "\n",
      "           0       0.50      0.05      0.09        96\n",
      "           1       0.41      0.39      0.40       725\n",
      "           2       0.41      0.52      0.46       928\n",
      "           3       0.47      0.40      0.43       797\n",
      "\n",
      "    accuracy                           0.43      2546\n",
      "   macro avg       0.45      0.34      0.35      2546\n",
      "weighted avg       0.43      0.43      0.42      2546\n",
      "\n",
      "\n",
      "-----Five-fold Cross-validation Results-----\n",
      "\n",
      "Random Forest Acc: 0.44 (+/- 0.02)\n",
      "CV Runtime: 5.8028810024261475\n"
     ]
    }
   ],
   "source": [
    "####TRAIN ON ALL FEATURES####\n",
    "if all_features==1:\n",
    "    clf = RandomForestClassifier(n_estimators=100,criterion='gini',random_state=0)\n",
    "    clf.fit(data_train,target_train)\n",
    "    scores_ACC = clf.score(data_test, target_test)                                                                                                                          \n",
    "    print('Random Forest Acc:', scores_ACC.round(3))\n",
    "    train_predictions=clf.predict(data_train)\n",
    "    test_predictions=clf.predict(data_test)\n",
    "    print(\"True Distribution:\")\n",
    "    print(pd.value_counts(target, normalize=True).sort_index())\n",
    "    print(\"\\nTrain Predicted Distribution:\")\n",
    "    print(pd.value_counts(train_predictions, normalize=True).sort_index())\n",
    "    print(\"\\nTest Predicted Distribution:\")\n",
    "    print(pd.value_counts(test_predictions, normalize=True).sort_index())\n",
    "    print(confusion_matrix(target_test, test_predictions))  \n",
    "    print(classification_report(target_test, test_predictions))      \n",
    "    start_ts=time.time()\n",
    "    scorers = {'Accuracy': 'accuracy'}                                                                                                                \n",
    "    clf = RandomForestClassifier(n_estimators=100,criterion='entropy', max_depth=None, min_samples_split=3,random_state=rand_st)\n",
    "    scores = cross_validate(clf, data, np.ravel(target), scoring=scorers, cv=5)                                                                                              \n",
    "    scores_Acc = scores['test_Accuracy']      \n",
    "    print('\\n-----Five-fold Cross-validation Results-----\\n')                                                                                                                              \n",
    "    print(\"Random Forest Acc: %0.2f (+/- %0.2f)\" % (scores_Acc.mean(), scores_Acc.std() * 2))                                                                                                                           \n",
    "    print(\"CV Runtime:\", time.time()-start_ts)"
   ]
  },
  {
   "cell_type": "markdown",
   "metadata": {},
   "source": [
    "Feature selection: low variance, wrapper select, chi-square and feature importance score"
   ]
  },
  {
   "cell_type": "code",
   "execution_count": 20,
   "metadata": {},
   "outputs": [
    {
     "name": "stdout",
     "output_type": "stream",
     "text": [
      "--FEATURE SELECTION ON-- \n",
      "\n",
      "Wrapper Select: \n",
      "Selected: ['PhotoAmt', 'Count_of_listings', 'Colors', 'Log_Age', 'SentMagnitude', 'SentScore', 'dominant_score']\n",
      "Features (total/selected): 24 7\n",
      "\n",
      "\n"
     ]
    }
   ],
   "source": [
    "####FEATURE SELECTION####\n",
    "#Low Variance Filter\n",
    "if lv_filter==1:\n",
    "    print('--LOW VARIANCE FILTER ON--', '\\n')\n",
    "    header=data_train.columns.tolist()\n",
    "    #LV Threshold\n",
    "    sel = VarianceThreshold(threshold=0.5)                                         \n",
    "    fit_mod=sel.fit(data)\n",
    "    fitted=sel.transform(data)\n",
    "    sel_idx=fit_mod.get_support()\n",
    "\n",
    "    #Get lists of selected and non-selected features (names and indexes)\n",
    "    temp=[]\n",
    "    temp_idx=[]\n",
    "    temp_del=[]\n",
    "    for i in range(len(header)):\n",
    "        if sel_idx[i]==1:                                                           #Selected Features get added to temp header\n",
    "            temp.append(header[i])\n",
    "            temp_idx.append(i)\n",
    "        else:                                                                       #Indexes of non-selected features get added to delete array\n",
    "            temp_del.append(i)\n",
    "    print('Selected:', temp)\n",
    "    print('Features (total, selected):', len(header), len(temp))\n",
    "    print('\\n')\n",
    "\n",
    "    #Filter selected columns from original dataset\n",
    "    orders=[]\n",
    "    for i in temp:\n",
    "        order=header.index(i)\n",
    "        orders.append(order)\n",
    "    data=infile.iloc[:,orders]                                \n",
    "\n",
    "if feat_select==1:\n",
    "    print('--FEATURE SELECTION ON--', '\\n')\n",
    "    header=data_train.columns.tolist()\n",
    "    #Wrapper Select via model\n",
    "    if fs_type==2:\n",
    "        clf =RandomForestClassifier(n_estimators=100,criterion='entropy', max_depth=None, min_samples_split=3,random_state=rand_st)        \n",
    "        sel = SelectFromModel(clf, prefit=False, threshold='mean', max_features=None)                   \n",
    "        print ('Wrapper Select: ')\n",
    "        fit_mod=sel.fit(data_train, target_train)    \n",
    "        sel_idx=fit_mod.get_support()\n",
    "    if fs_type==3:\n",
    "        #Univariate Feature Selection - Chi-squared\n",
    "        sel=SelectKBest(chi2,k=k_cnt)\n",
    "        fit_mod=sel.fit(data, target)                                         #will throw error if any negative values in features, so turn off feature normalization, or switch to mutual_info_classif\n",
    "        print ('Univariate Feature Selection - Chi2: ')\n",
    "        sel_idx=fit_mod.get_support()\n",
    "        #Print ranked variables out sorted\n",
    "        temp=[]\n",
    "        scores=fit_mod.scores_\n",
    "        for i in range(len(header)):            \n",
    "            temp.append([header[i], float(scores[i])])\n",
    "        print('Chi2 Ranked Features')\n",
    "        temp_sort=sorted(temp, key=itemgetter(1), reverse=True)\n",
    "        for i in range(len(temp_sort)):\n",
    "            print(i, temp_sort[i][0], ':', temp_sort[i][1])\n",
    "        print('\\n')        \n",
    "    if fs_type==4:\n",
    "        clf=RandomForestClassifier(n_estimators=100,criterion='entropy', max_depth=None, min_samples_split=3,random_state=rand_st)\n",
    "        clf.fit(data_train, target_train)\n",
    "        print('Feature Importance Feature Selection:') \n",
    "        sel_idx=[] #empty erray\n",
    "        feature_importances=clf.feature_importances_\n",
    "        ave_importance=round(np.mean(clf.feature_importances_),3)\n",
    "        for x in feature_importances:\n",
    "            if x>=ave_importance:\n",
    "                sel_idx.append(1)\n",
    "            else:\n",
    "                sel_idx.append(0)\n",
    "        temp=[]\n",
    "        for i in range(len(header)):            \n",
    "            temp.append([header[i], float(feature_importances[i])])\n",
    "        print('Feature Importance Ranked Features')\n",
    "        temp_sort=sorted(temp, key=itemgetter(1), reverse=True)\n",
    "        for i in range(len(temp_sort)):\n",
    "            print(i, temp_sort[i][0], ':', temp_sort[i][1])\n",
    "        print('\\n') \n",
    "#Get lists of selected and non-selected features (names and indexes)\n",
    "    temp=[]\n",
    "    temp_idx=[]\n",
    "    temp_del=[]\n",
    "    for i in range(len(header)):\n",
    "        if sel_idx[i]==1:                                                           #Selected Features get added to temp header\n",
    "            temp.append(header[i])\n",
    "            temp_idx.append(i)\n",
    "        else:                                                                       #Indexes of non-selected features get added to delete array\n",
    "            temp_del.append(i)\n",
    "    print('Selected:', temp)\n",
    "    print('Features (total/selected):', len(header), len(temp))\n",
    "    print('\\n')\n",
    "    #delete features     \n",
    "    orders=[]\n",
    "    for i in temp:\n",
    "        order=header.index(i)\n",
    "        orders.append(order)\n",
    "    data=infile.iloc[:,orders]    \n"
   ]
  },
  {
   "cell_type": "markdown",
   "metadata": {},
   "source": [
    "New train and test sets with selected features only"
   ]
  },
  {
   "cell_type": "code",
   "execution_count": 21,
   "metadata": {},
   "outputs": [],
   "source": [
    "data=pd.DataFrame(infile,columns=['PhotoAmt', 'Count_of_listings', 'Log_Age', 'SentMagnitude', 'SentScore', 'dominant_score'])\n",
    "target=infile['AdoptionSpeed']\n",
    "data_train, data_test, target_train, target_test = train_test_split(data, target, test_size=0.3,random_state=rand_st)"
   ]
  },
  {
   "cell_type": "markdown",
   "metadata": {},
   "source": [
    "Random Forest model training and results"
   ]
  },
  {
   "cell_type": "code",
   "execution_count": 22,
   "metadata": {},
   "outputs": [
    {
     "name": "stdout",
     "output_type": "stream",
     "text": [
      "Random Forest Acc: 0.404\n",
      "True Distribution:\n",
      "0    0.039010\n",
      "1    0.287448\n",
      "2    0.372775\n",
      "3    0.300766\n",
      "Name: AdoptionSpeed, dtype: float64\n",
      "\n",
      "Train Predicted Distribution:\n",
      "0    0.039737\n",
      "1    0.288432\n",
      "2    0.376326\n",
      "3    0.295504\n",
      "dtype: float64\n",
      "\n",
      "Test Predicted Distribution:\n",
      "0    0.006677\n",
      "1    0.266693\n",
      "2    0.465043\n",
      "3    0.261587\n",
      "dtype: float64\n",
      "[[  4  32  43  17]\n",
      " [  5 259 336 125]\n",
      " [  5 214 475 234]\n",
      " [  3 174 330 290]]\n",
      "              precision    recall  f1-score   support\n",
      "\n",
      "           0       0.24      0.04      0.07        96\n",
      "           1       0.38      0.36      0.37       725\n",
      "           2       0.40      0.51      0.45       928\n",
      "           3       0.44      0.36      0.40       797\n",
      "\n",
      "    accuracy                           0.40      2546\n",
      "   macro avg       0.36      0.32      0.32      2546\n",
      "weighted avg       0.40      0.40      0.40      2546\n",
      "\n",
      "\n",
      "-----Five-fold Cross-validation Results-----\n",
      "\n",
      "Random Forest Acc: 0.41 (+/- 0.02)\n",
      "CV Runtime: 6.290337085723877\n"
     ]
    }
   ],
   "source": [
    "if random_forest==1:\n",
    "    clf = RandomForestClassifier(n_estimators=100,criterion='entropy',random_state=0)\n",
    "    clf.fit(data_train,target_train)\n",
    "    scores_ACC = clf.score(data_test, target_test)                                                                                                                          \n",
    "    print('Random Forest Acc:', scores_ACC.round(3))\n",
    "    train_predictions=clf.predict(data_train)\n",
    "    test_predictions=clf.predict(data_test)\n",
    "    print(\"True Distribution:\")\n",
    "    print(pd.value_counts(target, normalize=True).sort_index())\n",
    "    print(\"\\nTrain Predicted Distribution:\")\n",
    "    print(pd.value_counts(train_predictions, normalize=True).sort_index())\n",
    "    print(\"\\nTest Predicted Distribution:\")\n",
    "    print(pd.value_counts(test_predictions, normalize=True).sort_index())\n",
    "    print(confusion_matrix(target_test, test_predictions))  \n",
    "    print(classification_report(target_test, test_predictions))      \n",
    "    start_ts=time.time()\n",
    "    scorers = {'Accuracy': 'accuracy'}                                                                                                                \n",
    "    clf = RandomForestClassifier(n_estimators=100,criterion='entropy', max_depth=None, min_samples_split=3,random_state=rand_st)\n",
    "    scores = cross_validate(clf, data, np.ravel(target), scoring=scorers, cv=5)                                                                                              \n",
    "    scores_Acc = scores['test_Accuracy']      \n",
    "    print('\\n-----Five-fold Cross-validation Results-----\\n')                                                                                                                              \n",
    "    print(\"Random Forest Acc: %0.2f (+/- %0.2f)\" % (scores_Acc.mean(), scores_Acc.std() * 2))                                                                                                                           \n",
    "    print(\"CV Runtime:\", time.time()-start_ts)"
   ]
  },
  {
   "cell_type": "markdown",
   "metadata": {},
   "source": [
    "Parameter tuning for random forest"
   ]
  },
  {
   "cell_type": "code",
   "execution_count": 23,
   "metadata": {},
   "outputs": [
    {
     "data": {
      "image/png": "[encoded data removed]",
      "text/plain": [
       "<Figure size 432x288 with 1 Axes>"
      ]
     },
     "metadata": {
      "needs_background": "light"
     },
     "output_type": "display_data"
    }
   ],
   "source": [
    "n_estimators = [32, 64, 100, 200,300]\n",
    "train_results = []\n",
    "test_results = []\n",
    "for estimator in n_estimators:\n",
    "   rf = RandomForestClassifier(n_estimators=estimator, n_jobs=-1,random_state=rand_st)\n",
    "   rf.fit(data_train,target_train)\n",
    "   train_pred = rf.predict(data_train)\n",
    "   train_acc = rf.score(data_train, target_train)                                                                                                                          \n",
    "   train_results.append(train_acc)\n",
    "   test_pred = rf.predict(data_test)\n",
    "   test_acc = rf.score(data_test, target_test)     \n",
    "   test_results.append(test_acc)\n",
    "\n",
    "line1, = plt.plot(n_estimators, train_results, 'b', label='Train Acc')\n",
    "line2, = plt.plot(n_estimators, test_results, 'r', label='Test Acc')\n",
    "plt.legend(handler_map={line1: HandlerLine2D(numpoints=2)})\n",
    "plt.ylabel('Acc scores')\n",
    "plt.xlabel('n_estimators')\n",
    "plt.show()"
   ]
  },
  {
   "cell_type": "code",
   "execution_count": null,
   "metadata": {},
   "outputs": [],
   "source": [
    "Gradient boosting training and results"
   ]
  },
  {
   "cell_type": "code",
   "execution_count": 24,
   "metadata": {},
   "outputs": [
    {
     "name": "stdout",
     "output_type": "stream",
     "text": [
      "Gradient Boosting Acc: 0.391\n",
      "True Distribution:\n",
      "0    0.039010\n",
      "1    0.287448\n",
      "2    0.372775\n",
      "3    0.300766\n",
      "Name: AdoptionSpeed, dtype: float64\n",
      "\n",
      "Train Predicted Distribution:\n",
      "0    0.004715\n",
      "1    0.250884\n",
      "2    0.558512\n",
      "3    0.185890\n",
      "dtype: float64\n",
      "\n",
      "Test Predicted Distribution:\n",
      "0    0.003535\n",
      "1    0.236057\n",
      "2    0.553810\n",
      "3    0.206599\n",
      "dtype: float64\n",
      "\n",
      "Confusion Matrix\n",
      "[[  1  24  54  17]\n",
      " [  3 229 406  87]\n",
      " [  2 197 536 193]\n",
      " [  3 151 414 229]]\n",
      "Classification Report\n",
      "              precision    recall  f1-score   support\n",
      "\n",
      "           0       0.11      0.01      0.02        96\n",
      "           1       0.38      0.32      0.35       725\n",
      "           2       0.38      0.58      0.46       928\n",
      "           3       0.44      0.29      0.35       797\n",
      "\n",
      "    accuracy                           0.39      2546\n",
      "   macro avg       0.33      0.30      0.29      2546\n",
      "weighted avg       0.39      0.39      0.37      2546\n",
      "\n",
      "\n",
      "-----Five-fold Cross-validation Results-----\n",
      "\n",
      "Random Forest Acc: 0.41 (+/- 0.02)\n",
      "CV Runtime: 6.127417087554932\n"
     ]
    }
   ],
   "source": [
    "if gradient_boosting==1:\n",
    "    clf =GradientBoostingClassifier(loss='deviance', learning_rate=0.1, n_estimators=100, subsample=1.0, criterion='friedman_mse', min_samples_split=3, min_samples_leaf=1,max_depth=3,random_state=rand_st )\n",
    "    clf.fit(data_train,target_train)\n",
    "    scores_ACC = clf.score(data_test, target_test)                                                                                                                          \n",
    "    print('Gradient Boosting Acc:', scores_ACC.round(3))\n",
    "    train_predictions=clf.predict(data_train)\n",
    "    test_predictions=clf.predict(data_test)\n",
    "    print(\"True Distribution:\")\n",
    "    print(pd.value_counts(target, normalize=True).sort_index())\n",
    "    print(\"\\nTrain Predicted Distribution:\")\n",
    "    print(pd.value_counts(train_predictions, normalize=True).sort_index())\n",
    "    print(\"\\nTest Predicted Distribution:\")\n",
    "    print(pd.value_counts(test_predictions, normalize=True).sort_index())\n",
    "    print('\\nConfusion Matrix')\n",
    "    print(confusion_matrix(target_test, test_predictions))  \n",
    "    print('Classification Report')\n",
    "    print(classification_report(target_test, test_predictions))     \n",
    "    start_ts=time.time()\n",
    "    scorers = {'Accuracy': 'accuracy'}                                                                                                                \n",
    "    clf = RandomForestClassifier(n_estimators=100,criterion='entropy', max_depth=None, min_samples_split=3,random_state=rand_st)\n",
    "    scores = cross_validate(clf, data, np.ravel(target), scoring=scorers, cv=5)                                                                                              \n",
    "    scores_Acc = scores['test_Accuracy']      \n",
    "    print('\\n-----Five-fold Cross-validation Results-----\\n')                                                                                                                              \n",
    "    print(\"Random Forest Acc: %0.2f (+/- %0.2f)\" % (scores_Acc.mean(), scores_Acc.std() * 2))                                                                                                                           \n",
    "    print(\"CV Runtime:\", time.time()-start_ts)    "
   ]
  },
  {
   "cell_type": "markdown",
   "metadata": {},
   "source": [
    "Supported vector machine using rbf kernel training and results"
   ]
  },
  {
   "cell_type": "code",
   "execution_count": 25,
   "metadata": {},
   "outputs": [
    {
     "name": "stdout",
     "output_type": "stream",
     "text": [
      "SVM Acc: 0.368\n",
      "True Distribution:\n",
      "0    0.039010\n",
      "1    0.287448\n",
      "2    0.372775\n",
      "3    0.300766\n",
      "Name: AdoptionSpeed, dtype: float64\n",
      "\n",
      "Train Predicted Distribution:\n",
      "2    0.952012\n",
      "3    0.047988\n",
      "dtype: float64\n",
      "\n",
      "Test Predicted Distribution:\n",
      "2    0.941084\n",
      "3    0.058916\n",
      "dtype: float64\n",
      "\n",
      "Confusion Matrix\n",
      "[[  0   0  95   1]\n",
      " [  0   0 706  19]\n",
      " [  0   0 867  61]\n",
      " [  0   0 728  69]]\n",
      "Classification Report\n",
      "              precision    recall  f1-score   support\n",
      "\n",
      "           0       0.00      0.00      0.00        96\n",
      "           1       0.00      0.00      0.00       725\n",
      "           2       0.36      0.93      0.52       928\n",
      "           3       0.46      0.09      0.15       797\n",
      "\n",
      "    accuracy                           0.37      2546\n",
      "   macro avg       0.21      0.26      0.17      2546\n",
      "weighted avg       0.28      0.37      0.24      2546\n",
      "\n"
     ]
    },
    {
     "name": "stderr",
     "output_type": "stream",
     "text": [
      "/opt/anaconda3/lib/python3.7/site-packages/sklearn/metrics/classification.py:1437: UndefinedMetricWarning: Precision and F-score are ill-defined and being set to 0.0 in labels with no predicted samples.\n",
      "  'precision', 'predicted', average, warn_for)\n"
     ]
    },
    {
     "name": "stdout",
     "output_type": "stream",
     "text": [
      "\n",
      "-----Five-fold Cross-validation Results-----\n",
      "\n",
      "Random Forest Acc: 0.41 (+/- 0.02)\n",
      "CV Runtime: 6.47997522354126\n"
     ]
    }
   ],
   "source": [
    "if svm==1:\n",
    "    clf=SVC(C=1.0, kernel='rbf', degree=3, gamma='scale', coef0=0.0, probability=False, tol=0.001,random_state=rand_st)\n",
    "    clf.fit(data_train,target_train)\n",
    "    scores_ACC = clf.score(data_test, target_test)                                                                                                                          \n",
    "    print('SVM Acc:', scores_ACC.round(3))\n",
    "    train_predictions=clf.predict(data_train)\n",
    "    test_predictions=clf.predict(data_test)\n",
    "    print(\"True Distribution:\")\n",
    "    print(pd.value_counts(target, normalize=True).sort_index())\n",
    "    print(\"\\nTrain Predicted Distribution:\")\n",
    "    print(pd.value_counts(train_predictions, normalize=True).sort_index())\n",
    "    print(\"\\nTest Predicted Distribution:\")\n",
    "    print(pd.value_counts(test_predictions, normalize=True).sort_index())\n",
    "    print('\\nConfusion Matrix')\n",
    "    print(confusion_matrix(target_test, test_predictions))  \n",
    "    print('Classification Report')\n",
    "    print(classification_report(target_test, test_predictions))     \n",
    "    start_ts=time.time()\n",
    "    scorers = {'Accuracy': 'accuracy'}                                                                                                                \n",
    "    clf = RandomForestClassifier(n_estimators=100,criterion='entropy', max_depth=None, min_samples_split=3,random_state=rand_st)\n",
    "    scores = cross_validate(clf, data, np.ravel(target), scoring=scorers, cv=5)                                                                                              \n",
    "    scores_Acc = scores['test_Accuracy']      \n",
    "    print('\\n-----Five-fold Cross-validation Results-----\\n')                                                                                                                              \n",
    "    print(\"Random Forest Acc: %0.2f (+/- %0.2f)\" % (scores_Acc.mean(), scores_Acc.std() * 2))                                                                                                                           \n",
    "    print(\"CV Runtime:\", time.time()-start_ts)"
   ]
  },
  {
   "cell_type": "code",
   "execution_count": null,
   "metadata": {},
   "outputs": [],
   "source": []
  }
 ],
 "metadata": {
  "kernelspec": {
   "display_name": "Python 3",
   "language": "python",
   "name": "python3"
  },
  "language_info": {
   "codemirror_mode": {
    "name": "ipython",
    "version": 3
   },
   "file_extension": ".py",
   "mimetype": "text/x-python",
   "name": "python",
   "nbconvert_exporter": "python",
   "pygments_lexer": "ipython3",
   "version": "3.7.4"
  }
 },
 "nbformat": 4,
 "nbformat_minor": 2
}
